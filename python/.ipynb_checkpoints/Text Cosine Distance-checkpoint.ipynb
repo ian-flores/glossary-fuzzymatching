{
 "cells": [
  {
   "cell_type": "markdown",
   "metadata": {},
   "source": [
    "Load packages\n",
    "\n",
    "`!pip3 install textdistance pyyaml requests` if packages not installed"
   ]
  },
  {
   "cell_type": "code",
   "execution_count": 7,
   "metadata": {},
   "outputs": [],
   "source": [
    "import textdistance\n",
    "import yaml\n",
    "import requests"
   ]
  },
  {
   "cell_type": "markdown",
   "metadata": {},
   "source": [
    "Load glossary from YAML file into dictionary"
   ]
  },
  {
   "cell_type": "code",
   "execution_count": 66,
   "metadata": {},
   "outputs": [],
   "source": [
    "url = 'https://raw.githubusercontent.com/gvwilson/glossary/master/glossary.yml'\n",
    "\n",
    "req = requests.get(url)\n",
    "\n",
    "dictionary = yaml.load(req.text, Loader=yaml.FullLoader)"
   ]
  },
  {
   "cell_type": "markdown",
   "metadata": {},
   "source": [
    "We create a key for each object so that we can search based on that key."
   ]
  },
  {
   "cell_type": "code",
   "execution_count": 67,
   "metadata": {},
   "outputs": [],
   "source": [
    "Terms = {term['slug']: term for term in dictionary}"
   ]
  },
  {
   "cell_type": "markdown",
   "metadata": {},
   "source": [
    "If we type the word to search exactly as the slug in the Terms dictionary then we get a match"
   ]
  },
  {
   "cell_type": "code",
   "execution_count": 21,
   "metadata": {},
   "outputs": [],
   "source": [
    "word_to_search = 'data_frame'"
   ]
  },
  {
   "cell_type": "code",
   "execution_count": 22,
   "metadata": {},
   "outputs": [
    {
     "data": {
      "text/plain": [
       "{'slug': 'data_frame',\n",
       " 'en': {'term': 'data frame',\n",
       "  'def': 'A two-dimensional data structure for storing tabular data in memory. Rows represent [records](#record) and columns represent [variables](variable_data).\\n'},\n",
       " 'ref': ['tidy_data']}"
      ]
     },
     "execution_count": 22,
     "metadata": {},
     "output_type": "execute_result"
    }
   ],
   "source": [
    "Terms[word_to_search]"
   ]
  },
  {
   "cell_type": "markdown",
   "metadata": {},
   "source": [
    "But if we deviate the slightest from the slug structure we get a key error as the key is not found in the dictionary"
   ]
  },
  {
   "cell_type": "code",
   "execution_count": 68,
   "metadata": {},
   "outputs": [],
   "source": [
    "word_to_search = 'data frame'"
   ]
  },
  {
   "cell_type": "code",
   "execution_count": 69,
   "metadata": {},
   "outputs": [
    {
     "ename": "KeyError",
     "evalue": "'data frame'",
     "output_type": "error",
     "traceback": [
      "\u001b[0;31m---------------------------------------------------------------------------\u001b[0m",
      "\u001b[0;31mKeyError\u001b[0m                                  Traceback (most recent call last)",
      "\u001b[0;32m<ipython-input-69-dec6d02b67ce>\u001b[0m in \u001b[0;36m<module>\u001b[0;34m\u001b[0m\n\u001b[0;32m----> 1\u001b[0;31m \u001b[0mTerms\u001b[0m\u001b[0;34m[\u001b[0m\u001b[0mword_to_search\u001b[0m\u001b[0;34m]\u001b[0m\u001b[0;34m\u001b[0m\u001b[0;34m\u001b[0m\u001b[0m\n\u001b[0m",
      "\u001b[0;31mKeyError\u001b[0m: 'data frame'"
     ]
    }
   ],
   "source": [
    "Terms[word_to_search]"
   ]
  },
  {
   "cell_type": "markdown",
   "metadata": {},
   "source": [
    "To solve this, we implement `search_similar_word()` using the cosine distance and returning the value closest to the word to search"
   ]
  },
  {
   "cell_type": "code",
   "execution_count": 53,
   "metadata": {},
   "outputs": [],
   "source": [
    "def search_similar_word(word_to_search):\n",
    "    similarity_dict = {}\n",
    "    \n",
    "    for term in Terms.keys():\n",
    "        similarity_dict[term] = textdistance.cosine.normalized_similarity(word_to_search, term)\n",
    "\n",
    "    return max(similarity_dict, key = similarity_dict.get)"
   ]
  },
  {
   "cell_type": "code",
   "execution_count": 61,
   "metadata": {},
   "outputs": [
    {
     "data": {
      "text/plain": [
       "'data_frame'"
      ]
     },
     "execution_count": 61,
     "metadata": {},
     "output_type": "execute_result"
    }
   ],
   "source": [
    "search_similar_word('data frame')"
   ]
  },
  {
   "cell_type": "markdown",
   "metadata": {},
   "source": [
    "This final logic is what we wish to introduce into the `glossary` package. First search for an exact match, if not closest match, if any other error pops-up print an error."
   ]
  },
  {
   "cell_type": "code",
   "execution_count": 65,
   "metadata": {},
   "outputs": [
    {
     "name": "stdout",
     "output_type": "stream",
     "text": [
      "data frame wasn't founded, showing data_frame \n",
      "\n",
      "{'slug': 'data_frame', 'en': {'term': 'data frame', 'def': 'A two-dimensional data structure for storing tabular data in memory. Rows represent [records](#record) and columns represent [variables](variable_data).\\n'}, 'ref': ['tidy_data']}\n"
     ]
    }
   ],
   "source": [
    "try:\n",
    "    Terms[word_to_search]\n",
    "except KeyError:\n",
    "    term_found = search_similar_word(word_to_search)\n",
    "    print(f'{word_to_search} wasn\\'t founded, showing {term_found} \\n')\n",
    "    print(Terms[term_found])\n",
    "except:\n",
    "    print('This word hasn\\'t been found in the dictionary.')"
   ]
  }
 ],
 "metadata": {
  "kernelspec": {
   "display_name": "Python 3",
   "language": "python",
   "name": "python3"
  },
  "language_info": {
   "codemirror_mode": {
    "name": "ipython",
    "version": 3
   },
   "file_extension": ".py",
   "mimetype": "text/x-python",
   "name": "python",
   "nbconvert_exporter": "python",
   "pygments_lexer": "ipython3",
   "version": "3.7.7"
  }
 },
 "nbformat": 4,
 "nbformat_minor": 4
}
